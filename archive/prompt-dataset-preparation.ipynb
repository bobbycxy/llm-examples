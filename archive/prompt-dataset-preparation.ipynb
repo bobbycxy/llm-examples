{
 "cells": [
  {
   "cell_type": "code",
   "execution_count": 70,
   "metadata": {},
   "outputs": [],
   "source": [
    "from datasets import load_dataset\n",
    "import pandas as pd\n",
    "import numpy as np"
   ]
  },
  {
   "cell_type": "code",
   "execution_count": 50,
   "metadata": {},
   "outputs": [
    {
     "data": {
      "text/plain": [
       "Dataset({\n",
       "    features: ['text', 'label'],\n",
       "    num_rows: 5812\n",
       "})"
      ]
     },
     "execution_count": 50,
     "metadata": {},
     "output_type": "execute_result"
    }
   ],
   "source": [
    "dataset = load_dataset('Zhongxing0129/authorlist_train', trust_remote_code=True, split = 'train')\n",
    "dataset\n"
   ]
  },
  {
   "cell_type": "code",
   "execution_count": 53,
   "metadata": {},
   "outputs": [
    {
     "data": {
      "text/html": [
       "<div>\n",
       "<style scoped>\n",
       "    .dataframe tbody tr th:only-of-type {\n",
       "        vertical-align: middle;\n",
       "    }\n",
       "\n",
       "    .dataframe tbody tr th {\n",
       "        vertical-align: top;\n",
       "    }\n",
       "\n",
       "    .dataframe thead th {\n",
       "        text-align: right;\n",
       "    }\n",
       "</style>\n",
       "<table border=\"1\" class=\"dataframe\">\n",
       "  <thead>\n",
       "    <tr style=\"text-align: right;\">\n",
       "      <th></th>\n",
       "      <th>text</th>\n",
       "      <th>label</th>\n",
       "    </tr>\n",
       "  </thead>\n",
       "  <tbody>\n",
       "    <tr>\n",
       "      <th>0</th>\n",
       "      <td>“They will most likely be perfectly fitted,” s...</td>\n",
       "      <td>2</td>\n",
       "    </tr>\n",
       "    <tr>\n",
       "      <th>1</th>\n",
       "      <td>“The wound is not here, it is there!” said Kut...</td>\n",
       "      <td>2</td>\n",
       "    </tr>\n",
       "    <tr>\n",
       "      <th>2</th>\n",
       "      <td>When he got home he could not sleep for a long...</td>\n",
       "      <td>2</td>\n",
       "    </tr>\n",
       "    <tr>\n",
       "      <th>3</th>\n",
       "      <td>His efforts had not been in vain. The dinner, ...</td>\n",
       "      <td>2</td>\n",
       "    </tr>\n",
       "    <tr>\n",
       "      <th>4</th>\n",
       "      <td>An Austrian officer in a white uniform with gr...</td>\n",
       "      <td>2</td>\n",
       "    </tr>\n",
       "    <tr>\n",
       "      <th>...</th>\n",
       "      <td>...</td>\n",
       "      <td>...</td>\n",
       "    </tr>\n",
       "    <tr>\n",
       "      <th>5807</th>\n",
       "      <td>This was more than he could stand. How could a...</td>\n",
       "      <td>2</td>\n",
       "    </tr>\n",
       "    <tr>\n",
       "      <th>5808</th>\n",
       "      <td>As John Dashwood had no more pleasure in music...</td>\n",
       "      <td>0</td>\n",
       "    </tr>\n",
       "    <tr>\n",
       "      <th>5809</th>\n",
       "      <td>Dorian shook his head. “You must not ask me th...</td>\n",
       "      <td>1</td>\n",
       "    </tr>\n",
       "    <tr>\n",
       "      <th>5810</th>\n",
       "      <td>Enscombe however was gracious, gracious in fac...</td>\n",
       "      <td>0</td>\n",
       "    </tr>\n",
       "    <tr>\n",
       "      <th>5811</th>\n",
       "      <td>Mr. Micawber was very anxious that I should st...</td>\n",
       "      <td>3</td>\n",
       "    </tr>\n",
       "  </tbody>\n",
       "</table>\n",
       "<p>5812 rows × 2 columns</p>\n",
       "</div>"
      ],
      "text/plain": [
       "                                                   text  label\n",
       "0     “They will most likely be perfectly fitted,” s...      2\n",
       "1     “The wound is not here, it is there!” said Kut...      2\n",
       "2     When he got home he could not sleep for a long...      2\n",
       "3     His efforts had not been in vain. The dinner, ...      2\n",
       "4     An Austrian officer in a white uniform with gr...      2\n",
       "...                                                 ...    ...\n",
       "5807  This was more than he could stand. How could a...      2\n",
       "5808  As John Dashwood had no more pleasure in music...      0\n",
       "5809  Dorian shook his head. “You must not ask me th...      1\n",
       "5810  Enscombe however was gracious, gracious in fac...      0\n",
       "5811  Mr. Micawber was very anxious that I should st...      3\n",
       "\n",
       "[5812 rows x 2 columns]"
      ]
     },
     "execution_count": 53,
     "metadata": {},
     "output_type": "execute_result"
    }
   ],
   "source": [
    "dataset_df = pd.DataFrame(dataset)\n",
    "dataset_df"
   ]
  },
  {
   "cell_type": "code",
   "execution_count": 54,
   "metadata": {},
   "outputs": [
    {
     "data": {
      "text/plain": [
       "label\n",
       "2    2117\n",
       "3    1486\n",
       "0    1268\n",
       "1     941\n",
       "Name: count, dtype: int64"
      ]
     },
     "execution_count": 54,
     "metadata": {},
     "output_type": "execute_result"
    }
   ],
   "source": [
    "dataset_df['label'].value_counts()"
   ]
  },
  {
   "cell_type": "code",
   "execution_count": 167,
   "metadata": {},
   "outputs": [],
   "source": [
    "## take only a certain label. Multi-join itself, followed by sampling only 100\n",
    "def function(df, label_a, label_b, sample_size = 50):\n",
    "    data_a = df[df['label']==label_a].sample(sample_size, random_state = 7)\n",
    "    data_a['key'] = '1'\n",
    "    data_b = df[df['label']==label_b].sample(sample_size, random_state = 7)\n",
    "    data_b['key'] = '1'\n",
    "    data = data_a.merge(data_b, on = 'key')\n",
    "    data.drop('key', axis = 1, inplace = True)\n",
    "    data.rename(columns = {'text_x':'text_a',\n",
    "                 'text_y':'text_b',\n",
    "                 'label_x':'label_a',\n",
    "                 'label_y':'label_b'}, inplace = True)\n",
    "    data['model_response'] = np.where(data['label_a'] == data['label_b'], 'Yes','No')\n",
    "\n",
    "    return data"
   ]
  },
  {
   "cell_type": "code",
   "execution_count": 190,
   "metadata": {},
   "outputs": [],
   "source": [
    "sample_list = []\n",
    "\n",
    "for i in range(4):\n",
    "    for j in range(4):\n",
    "        if i == j:\n",
    "            sample_size=20\n",
    "        else:\n",
    "            sample_size=10\n",
    "        sample_list.append(function(dataset_df, i, j, sample_size))"
   ]
  },
  {
   "cell_type": "code",
   "execution_count": 191,
   "metadata": {},
   "outputs": [
    {
     "data": {
      "text/plain": [
       "16"
      ]
     },
     "execution_count": 191,
     "metadata": {},
     "output_type": "execute_result"
    }
   ],
   "source": [
    "len(sample_list)"
   ]
  },
  {
   "cell_type": "code",
   "execution_count": 193,
   "metadata": {},
   "outputs": [],
   "source": [
    "sample = pd.concat(sample_list, axis = 0)\n",
    "sample.reset_index(drop = True, inplace = True)"
   ]
  },
  {
   "cell_type": "code",
   "execution_count": 194,
   "metadata": {},
   "outputs": [],
   "source": [
    "new_col = []\n",
    "\n",
    "for i in range(len(sample)):\n",
    "    new_col.append(f\"<s>[INST] Author {sample['label_a'][i]} wrote this: '{sample['text_a'][i]}'. Did Author {sample['label_a'][i]} also write this: '{sample['text_b'][i]}'? [/INST] {sample['model_response'][i]} </s>\")"
   ]
  },
  {
   "cell_type": "code",
   "execution_count": 198,
   "metadata": {},
   "outputs": [
    {
     "data": {
      "text/html": [
       "<div>\n",
       "<style scoped>\n",
       "    .dataframe tbody tr th:only-of-type {\n",
       "        vertical-align: middle;\n",
       "    }\n",
       "\n",
       "    .dataframe tbody tr th {\n",
       "        vertical-align: top;\n",
       "    }\n",
       "\n",
       "    .dataframe thead th {\n",
       "        text-align: right;\n",
       "    }\n",
       "</style>\n",
       "<table border=\"1\" class=\"dataframe\">\n",
       "  <thead>\n",
       "    <tr style=\"text-align: right;\">\n",
       "      <th></th>\n",
       "      <th>text_a</th>\n",
       "      <th>label_a</th>\n",
       "      <th>text_b</th>\n",
       "      <th>label_b</th>\n",
       "      <th>model_response</th>\n",
       "      <th>text</th>\n",
       "    </tr>\n",
       "  </thead>\n",
       "  <tbody>\n",
       "    <tr>\n",
       "      <th>0</th>\n",
       "      <td>The observations of her uncle and aunt now beg...</td>\n",
       "      <td>0</td>\n",
       "      <td>The observations of her uncle and aunt now beg...</td>\n",
       "      <td>0</td>\n",
       "      <td>Yes</td>\n",
       "      <td>&lt;s&gt;[INST] Author 0 wrote this: 'The observatio...</td>\n",
       "    </tr>\n",
       "    <tr>\n",
       "      <th>1</th>\n",
       "      <td>The observations of her uncle and aunt now beg...</td>\n",
       "      <td>0</td>\n",
       "      <td>When all of the house that was open to general...</td>\n",
       "      <td>0</td>\n",
       "      <td>Yes</td>\n",
       "      <td>&lt;s&gt;[INST] Author 0 wrote this: 'The observatio...</td>\n",
       "    </tr>\n",
       "    <tr>\n",
       "      <th>2</th>\n",
       "      <td>The observations of her uncle and aunt now beg...</td>\n",
       "      <td>0</td>\n",
       "      <td>“My objection is this; though I think very wel...</td>\n",
       "      <td>0</td>\n",
       "      <td>Yes</td>\n",
       "      <td>&lt;s&gt;[INST] Author 0 wrote this: 'The observatio...</td>\n",
       "    </tr>\n",
       "    <tr>\n",
       "      <th>3</th>\n",
       "      <td>The observations of her uncle and aunt now beg...</td>\n",
       "      <td>0</td>\n",
       "      <td>“There, papa!—Now you must be satisfied—Our ow...</td>\n",
       "      <td>0</td>\n",
       "      <td>Yes</td>\n",
       "      <td>&lt;s&gt;[INST] Author 0 wrote this: 'The observatio...</td>\n",
       "    </tr>\n",
       "    <tr>\n",
       "      <th>4</th>\n",
       "      <td>The observations of her uncle and aunt now beg...</td>\n",
       "      <td>0</td>\n",
       "      <td>“What!” said Mrs. Weston, “have not you finish...</td>\n",
       "      <td>0</td>\n",
       "      <td>Yes</td>\n",
       "      <td>&lt;s&gt;[INST] Author 0 wrote this: 'The observatio...</td>\n",
       "    </tr>\n",
       "    <tr>\n",
       "      <th>...</th>\n",
       "      <td>...</td>\n",
       "      <td>...</td>\n",
       "      <td>...</td>\n",
       "      <td>...</td>\n",
       "      <td>...</td>\n",
       "      <td>...</td>\n",
       "    </tr>\n",
       "    <tr>\n",
       "      <th>2795</th>\n",
       "      <td>“See!” cried madame, pointing with her knife. ...</td>\n",
       "      <td>3</td>\n",
       "      <td>‘That I am sure of,’ she answered, with uncomm...</td>\n",
       "      <td>3</td>\n",
       "      <td>Yes</td>\n",
       "      <td>&lt;s&gt;[INST] Author 3 wrote this: '“See!” cried m...</td>\n",
       "    </tr>\n",
       "    <tr>\n",
       "      <th>2796</th>\n",
       "      <td>“See!” cried madame, pointing with her knife. ...</td>\n",
       "      <td>3</td>\n",
       "      <td>“Well!” said Stryver, slapping the desk with h...</td>\n",
       "      <td>3</td>\n",
       "      <td>Yes</td>\n",
       "      <td>&lt;s&gt;[INST] Author 3 wrote this: '“See!” cried m...</td>\n",
       "    </tr>\n",
       "    <tr>\n",
       "      <th>2797</th>\n",
       "      <td>“See!” cried madame, pointing with her knife. ...</td>\n",
       "      <td>3</td>\n",
       "      <td>Ham was a boat-builder in these days, having i...</td>\n",
       "      <td>3</td>\n",
       "      <td>Yes</td>\n",
       "      <td>&lt;s&gt;[INST] Author 3 wrote this: '“See!” cried m...</td>\n",
       "    </tr>\n",
       "    <tr>\n",
       "      <th>2798</th>\n",
       "      <td>“See!” cried madame, pointing with her knife. ...</td>\n",
       "      <td>3</td>\n",
       "      <td>‘Mr. Spenlow’s in Court, ma’am,’ said the dry ...</td>\n",
       "      <td>3</td>\n",
       "      <td>Yes</td>\n",
       "      <td>&lt;s&gt;[INST] Author 3 wrote this: '“See!” cried m...</td>\n",
       "    </tr>\n",
       "    <tr>\n",
       "      <th>2799</th>\n",
       "      <td>“See!” cried madame, pointing with her knife. ...</td>\n",
       "      <td>3</td>\n",
       "      <td>“See!” cried madame, pointing with her knife. ...</td>\n",
       "      <td>3</td>\n",
       "      <td>Yes</td>\n",
       "      <td>&lt;s&gt;[INST] Author 3 wrote this: '“See!” cried m...</td>\n",
       "    </tr>\n",
       "  </tbody>\n",
       "</table>\n",
       "<p>2800 rows × 6 columns</p>\n",
       "</div>"
      ],
      "text/plain": [
       "                                                 text_a  ...                                               text\n",
       "0     The observations of her uncle and aunt now beg...  ...  <s>[INST] Author 0 wrote this: 'The observatio...\n",
       "1     The observations of her uncle and aunt now beg...  ...  <s>[INST] Author 0 wrote this: 'The observatio...\n",
       "2     The observations of her uncle and aunt now beg...  ...  <s>[INST] Author 0 wrote this: 'The observatio...\n",
       "3     The observations of her uncle and aunt now beg...  ...  <s>[INST] Author 0 wrote this: 'The observatio...\n",
       "4     The observations of her uncle and aunt now beg...  ...  <s>[INST] Author 0 wrote this: 'The observatio...\n",
       "...                                                 ...  ...                                                ...\n",
       "2795  “See!” cried madame, pointing with her knife. ...  ...  <s>[INST] Author 3 wrote this: '“See!” cried m...\n",
       "2796  “See!” cried madame, pointing with her knife. ...  ...  <s>[INST] Author 3 wrote this: '“See!” cried m...\n",
       "2797  “See!” cried madame, pointing with her knife. ...  ...  <s>[INST] Author 3 wrote this: '“See!” cried m...\n",
       "2798  “See!” cried madame, pointing with her knife. ...  ...  <s>[INST] Author 3 wrote this: '“See!” cried m...\n",
       "2799  “See!” cried madame, pointing with her knife. ...  ...  <s>[INST] Author 3 wrote this: '“See!” cried m...\n",
       "\n",
       "[2800 rows x 6 columns]"
      ]
     },
     "execution_count": 198,
     "metadata": {},
     "output_type": "execute_result"
    }
   ],
   "source": [
    "sample['text'] = new_col\n",
    "sample"
   ]
  },
  {
   "cell_type": "code",
   "execution_count": 200,
   "metadata": {},
   "outputs": [],
   "source": [
    "## prepare folder path\n",
    "import os\n",
    "\n",
    "## create directories to hold the model when they don't exist\n",
    "working_dir = './datasets'\n",
    "\n",
    "## it is recommended to store the models seperately\n",
    "output_dir_prompt = os.path.join(working_dir, 'stylometry')\n",
    "\n",
    "## create the directories if they don't exist\n",
    "if not os.path.exists(output_dir_prompt):\n",
    "    os.mkdir(output_dir_prompt)"
   ]
  },
  {
   "cell_type": "code",
   "execution_count": 201,
   "metadata": {},
   "outputs": [],
   "source": [
    "sample.to_csv(output_dir_prompt+'/zhongxing0129-authorlist_train-v1.csv', index = False)"
   ]
  },
  {
   "cell_type": "code",
   "execution_count": null,
   "metadata": {},
   "outputs": [],
   "source": []
  }
 ],
 "metadata": {
  "kernelspec": {
   "display_name": "env",
   "language": "python",
   "name": "python3"
  },
  "language_info": {
   "codemirror_mode": {
    "name": "ipython",
    "version": 3
   },
   "file_extension": ".py",
   "mimetype": "text/x-python",
   "name": "python",
   "nbconvert_exporter": "python",
   "pygments_lexer": "ipython3",
   "version": "3.8.10"
  }
 },
 "nbformat": 4,
 "nbformat_minor": 2
}
